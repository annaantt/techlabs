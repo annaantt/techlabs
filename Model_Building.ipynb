{
  "nbformat": 4,
  "nbformat_minor": 0,
  "metadata": {
    "kernelspec": {
      "display_name": "Python 3",
      "language": "python",
      "name": "python3"
    },
    "language_info": {
      "codemirror_mode": {
        "name": "ipython",
        "version": 3
      },
      "file_extension": ".py",
      "mimetype": "text/x-python",
      "name": "python",
      "nbconvert_exporter": "python",
      "pygments_lexer": "ipython3",
      "version": "3.7.4"
    },
    "colab": {
      "name": "Model Building.ipynb",
      "provenance": [],
      "include_colab_link": true
    }
  },
  "cells": [
    {
      "cell_type": "markdown",
      "metadata": {
        "id": "view-in-github",
        "colab_type": "text"
      },
      "source": [
        "<a href=\"https://colab.research.google.com/github/annaantt/techlabs/blob/master/Model_Building.ipynb\" target=\"_parent\"><img src=\"https://colab.research.google.com/assets/colab-badge.svg\" alt=\"Open In Colab\"/></a>"
      ]
    },
    {
      "cell_type": "markdown",
      "metadata": {
        "id": "fIUuEs_cJ1f_"
      },
      "source": [
        "## Import relevant libraries"
      ]
    },
    {
      "cell_type": "code",
      "metadata": {
        "id": "lWXrFjBiJ1gE"
      },
      "source": [
        "# Standard libraries\n",
        "import pandas as pd\n",
        "import numpy as np\n",
        "import matplotlib.pyplot as plt\n",
        "\n",
        "# Train test split\n",
        "from sklearn.model_selection import train_test_split\n",
        "\n",
        "# Pipeline, grid, CV\n",
        "from sklearn.pipeline import Pipeline\n",
        "from sklearn.model_selection import GridSearchCV, TimeSeriesSplit\n",
        "\n",
        "# Preprocessing\n",
        "from sklearn.preprocessing import MinMaxScaler\n",
        "from sklearn.preprocessing import StandardScaler\n",
        "\n",
        "# Models\n",
        "from sklearn.dummy import DummyClassifier\n",
        "from sklearn.linear_model import LogisticRegression\n",
        "from sklearn.neural_network import MLPClassifier\n",
        "from sklearn.ensemble import RandomForestClassifier\n",
        "from sklearn.ensemble import GradientBoostingClassifier\n",
        "from sklearn.svm import SVC\n",
        "from sklearn.neighbors import KNeighborsClassifier\n",
        "from sklearn.tree import DecisionTreeClassifier\n",
        "from sklearn.naive_bayes import GaussianNB\n",
        "\n",
        "from sklearn.metrics import classification_report"
      ],
      "execution_count": 1,
      "outputs": []
    },
    {
      "cell_type": "code",
      "metadata": {
        "id": "nRybYvGeJ1gG"
      },
      "source": [
        "# Load the dataset\n",
        "df = pd.read_csv('df_Final 3.csv', sep=';')"
      ],
      "execution_count": 2,
      "outputs": []
    },
    {
      "cell_type": "code",
      "metadata": {
        "colab": {
          "base_uri": "https://localhost:8080/",
          "height": 438
        },
        "id": "kHB4ToqfJ1gG",
        "outputId": "543908cd-3752-4197-ac01-71caeb4e0bf8"
      },
      "source": [
        "df.head()"
      ],
      "execution_count": 3,
      "outputs": [
        {
          "output_type": "execute_result",
          "data": {
            "text/html": [
              "<div>\n",
              "<style scoped>\n",
              "    .dataframe tbody tr th:only-of-type {\n",
              "        vertical-align: middle;\n",
              "    }\n",
              "\n",
              "    .dataframe tbody tr th {\n",
              "        vertical-align: top;\n",
              "    }\n",
              "\n",
              "    .dataframe thead th {\n",
              "        text-align: right;\n",
              "    }\n",
              "</style>\n",
              "<table border=\"1\" class=\"dataframe\">\n",
              "  <thead>\n",
              "    <tr style=\"text-align: right;\">\n",
              "      <th></th>\n",
              "      <th>Date</th>\n",
              "      <th>Compound_Score</th>\n",
              "      <th>Total Volume of Tweets</th>\n",
              "      <th>Count_Negatives</th>\n",
              "      <th>Count_Positives</th>\n",
              "      <th>Count_Neutrals</th>\n",
              "      <th>Sent_Negatives</th>\n",
              "      <th>Sent_Positives</th>\n",
              "      <th>Count_News</th>\n",
              "      <th>Count_Bots</th>\n",
              "      <th>Open</th>\n",
              "      <th>High</th>\n",
              "      <th>Low</th>\n",
              "      <th>Close</th>\n",
              "      <th>Volume (BTC)</th>\n",
              "      <th>Volume (Currency)</th>\n",
              "    </tr>\n",
              "  </thead>\n",
              "  <tbody>\n",
              "    <tr>\n",
              "      <th>0</th>\n",
              "      <td>2017-08-01 00:00:00</td>\n",
              "      <td>0.082893</td>\n",
              "      <td>1027.0</td>\n",
              "      <td>139.0</td>\n",
              "      <td>347.0</td>\n",
              "      <td>397.0</td>\n",
              "      <td>-0.516620</td>\n",
              "      <td>0.417882</td>\n",
              "      <td>695.0</td>\n",
              "      <td>144.0</td>\n",
              "      <td>2855.81</td>\n",
              "      <td>2863.06</td>\n",
              "      <td>2823.00</td>\n",
              "      <td>2825.92</td>\n",
              "      <td>184.02</td>\n",
              "      <td>522951,00</td>\n",
              "    </tr>\n",
              "    <tr>\n",
              "      <th>1</th>\n",
              "      <td>2017-08-01 01:00:00</td>\n",
              "      <td>0.053160</td>\n",
              "      <td>778.0</td>\n",
              "      <td>111.0</td>\n",
              "      <td>193.0</td>\n",
              "      <td>320.0</td>\n",
              "      <td>-0.423402</td>\n",
              "      <td>0.415385</td>\n",
              "      <td>493.0</td>\n",
              "      <td>154.0</td>\n",
              "      <td>2823.01</td>\n",
              "      <td>2860.02</td>\n",
              "      <td>2821.01</td>\n",
              "      <td>2853.38</td>\n",
              "      <td>77.3</td>\n",
              "      <td>219605.16</td>\n",
              "    </tr>\n",
              "    <tr>\n",
              "      <th>2</th>\n",
              "      <td>2017-08-01 02:00:00</td>\n",
              "      <td>0.124251</td>\n",
              "      <td>836.0</td>\n",
              "      <td>89.0</td>\n",
              "      <td>273.0</td>\n",
              "      <td>264.0</td>\n",
              "      <td>-0.440938</td>\n",
              "      <td>0.428661</td>\n",
              "      <td>510.0</td>\n",
              "      <td>210.0</td>\n",
              "      <td>2846.27</td>\n",
              "      <td>2858.04</td>\n",
              "      <td>2837.31</td>\n",
              "      <td>2841.60</td>\n",
              "      <td>135.83</td>\n",
              "      <td>386739.15</td>\n",
              "    </tr>\n",
              "    <tr>\n",
              "      <th>3</th>\n",
              "      <td>2017-08-01 03:00:00</td>\n",
              "      <td>-0.021037</td>\n",
              "      <td>984.0</td>\n",
              "      <td>250.0</td>\n",
              "      <td>236.0</td>\n",
              "      <td>314.0</td>\n",
              "      <td>-0.441173</td>\n",
              "      <td>0.396034</td>\n",
              "      <td>683.0</td>\n",
              "      <td>184.0</td>\n",
              "      <td>2841.84</td>\n",
              "      <td>2863.88</td>\n",
              "      <td>2837.73</td>\n",
              "      <td>2862.93</td>\n",
              "      <td>143.2</td>\n",
              "      <td>408360.03</td>\n",
              "    </tr>\n",
              "    <tr>\n",
              "      <th>4</th>\n",
              "      <td>2017-08-01 04:00:00</td>\n",
              "      <td>0.055437</td>\n",
              "      <td>751.0</td>\n",
              "      <td>114.0</td>\n",
              "      <td>195.0</td>\n",
              "      <td>305.0</td>\n",
              "      <td>-0.414978</td>\n",
              "      <td>0.417159</td>\n",
              "      <td>517.0</td>\n",
              "      <td>137.0</td>\n",
              "      <td>2862.92</td>\n",
              "      <td>2876.00</td>\n",
              "      <td>2848.11</td>\n",
              "      <td>2874.99</td>\n",
              "      <td>222.53</td>\n",
              "      <td>637045.88</td>\n",
              "    </tr>\n",
              "  </tbody>\n",
              "</table>\n",
              "</div>"
            ],
            "text/plain": [
              "                  Date  Compound_Score  ...  Volume (BTC)  Volume (Currency)\n",
              "0  2017-08-01 00:00:00        0.082893  ...        184.02          522951,00\n",
              "1  2017-08-01 01:00:00        0.053160  ...          77.3          219605.16\n",
              "2  2017-08-01 02:00:00        0.124251  ...        135.83          386739.15\n",
              "3  2017-08-01 03:00:00       -0.021037  ...         143.2          408360.03\n",
              "4  2017-08-01 04:00:00        0.055437  ...        222.53          637045.88\n",
              "\n",
              "[5 rows x 16 columns]"
            ]
          },
          "metadata": {},
          "execution_count": 3
        }
      ]
    },
    {
      "cell_type": "code",
      "metadata": {
        "colab": {
          "base_uri": "https://localhost:8080/",
          "height": 438
        },
        "id": "SqtZw4wxQACh",
        "outputId": "ca5be07d-858c-4b5b-c114-2b82fd205db9"
      },
      "source": [
        "def newTrend(row):\n",
        "  trend = (row[\"Close\"] - row[\"Open\"])\n",
        "  if trend >0:\n",
        "    return 1\n",
        "  else:\n",
        "    return 0\n",
        "\n",
        "df['trend'] = df.apply(lambda row: newTrend(row), axis=1)\n",
        "df.head()"
      ],
      "execution_count": 4,
      "outputs": [
        {
          "output_type": "execute_result",
          "data": {
            "text/html": [
              "<div>\n",
              "<style scoped>\n",
              "    .dataframe tbody tr th:only-of-type {\n",
              "        vertical-align: middle;\n",
              "    }\n",
              "\n",
              "    .dataframe tbody tr th {\n",
              "        vertical-align: top;\n",
              "    }\n",
              "\n",
              "    .dataframe thead th {\n",
              "        text-align: right;\n",
              "    }\n",
              "</style>\n",
              "<table border=\"1\" class=\"dataframe\">\n",
              "  <thead>\n",
              "    <tr style=\"text-align: right;\">\n",
              "      <th></th>\n",
              "      <th>Date</th>\n",
              "      <th>Compound_Score</th>\n",
              "      <th>Total Volume of Tweets</th>\n",
              "      <th>Count_Negatives</th>\n",
              "      <th>Count_Positives</th>\n",
              "      <th>Count_Neutrals</th>\n",
              "      <th>Sent_Negatives</th>\n",
              "      <th>Sent_Positives</th>\n",
              "      <th>Count_News</th>\n",
              "      <th>Count_Bots</th>\n",
              "      <th>Open</th>\n",
              "      <th>High</th>\n",
              "      <th>Low</th>\n",
              "      <th>Close</th>\n",
              "      <th>Volume (BTC)</th>\n",
              "      <th>Volume (Currency)</th>\n",
              "      <th>trend</th>\n",
              "    </tr>\n",
              "  </thead>\n",
              "  <tbody>\n",
              "    <tr>\n",
              "      <th>0</th>\n",
              "      <td>2017-08-01 00:00:00</td>\n",
              "      <td>0.082893</td>\n",
              "      <td>1027.0</td>\n",
              "      <td>139.0</td>\n",
              "      <td>347.0</td>\n",
              "      <td>397.0</td>\n",
              "      <td>-0.516620</td>\n",
              "      <td>0.417882</td>\n",
              "      <td>695.0</td>\n",
              "      <td>144.0</td>\n",
              "      <td>2855.81</td>\n",
              "      <td>2863.06</td>\n",
              "      <td>2823.00</td>\n",
              "      <td>2825.92</td>\n",
              "      <td>184.02</td>\n",
              "      <td>522951,00</td>\n",
              "      <td>0</td>\n",
              "    </tr>\n",
              "    <tr>\n",
              "      <th>1</th>\n",
              "      <td>2017-08-01 01:00:00</td>\n",
              "      <td>0.053160</td>\n",
              "      <td>778.0</td>\n",
              "      <td>111.0</td>\n",
              "      <td>193.0</td>\n",
              "      <td>320.0</td>\n",
              "      <td>-0.423402</td>\n",
              "      <td>0.415385</td>\n",
              "      <td>493.0</td>\n",
              "      <td>154.0</td>\n",
              "      <td>2823.01</td>\n",
              "      <td>2860.02</td>\n",
              "      <td>2821.01</td>\n",
              "      <td>2853.38</td>\n",
              "      <td>77.3</td>\n",
              "      <td>219605.16</td>\n",
              "      <td>1</td>\n",
              "    </tr>\n",
              "    <tr>\n",
              "      <th>2</th>\n",
              "      <td>2017-08-01 02:00:00</td>\n",
              "      <td>0.124251</td>\n",
              "      <td>836.0</td>\n",
              "      <td>89.0</td>\n",
              "      <td>273.0</td>\n",
              "      <td>264.0</td>\n",
              "      <td>-0.440938</td>\n",
              "      <td>0.428661</td>\n",
              "      <td>510.0</td>\n",
              "      <td>210.0</td>\n",
              "      <td>2846.27</td>\n",
              "      <td>2858.04</td>\n",
              "      <td>2837.31</td>\n",
              "      <td>2841.60</td>\n",
              "      <td>135.83</td>\n",
              "      <td>386739.15</td>\n",
              "      <td>0</td>\n",
              "    </tr>\n",
              "    <tr>\n",
              "      <th>3</th>\n",
              "      <td>2017-08-01 03:00:00</td>\n",
              "      <td>-0.021037</td>\n",
              "      <td>984.0</td>\n",
              "      <td>250.0</td>\n",
              "      <td>236.0</td>\n",
              "      <td>314.0</td>\n",
              "      <td>-0.441173</td>\n",
              "      <td>0.396034</td>\n",
              "      <td>683.0</td>\n",
              "      <td>184.0</td>\n",
              "      <td>2841.84</td>\n",
              "      <td>2863.88</td>\n",
              "      <td>2837.73</td>\n",
              "      <td>2862.93</td>\n",
              "      <td>143.2</td>\n",
              "      <td>408360.03</td>\n",
              "      <td>1</td>\n",
              "    </tr>\n",
              "    <tr>\n",
              "      <th>4</th>\n",
              "      <td>2017-08-01 04:00:00</td>\n",
              "      <td>0.055437</td>\n",
              "      <td>751.0</td>\n",
              "      <td>114.0</td>\n",
              "      <td>195.0</td>\n",
              "      <td>305.0</td>\n",
              "      <td>-0.414978</td>\n",
              "      <td>0.417159</td>\n",
              "      <td>517.0</td>\n",
              "      <td>137.0</td>\n",
              "      <td>2862.92</td>\n",
              "      <td>2876.00</td>\n",
              "      <td>2848.11</td>\n",
              "      <td>2874.99</td>\n",
              "      <td>222.53</td>\n",
              "      <td>637045.88</td>\n",
              "      <td>1</td>\n",
              "    </tr>\n",
              "  </tbody>\n",
              "</table>\n",
              "</div>"
            ],
            "text/plain": [
              "                  Date  Compound_Score  ...  Volume (Currency)  trend\n",
              "0  2017-08-01 00:00:00        0.082893  ...          522951,00      0\n",
              "1  2017-08-01 01:00:00        0.053160  ...          219605.16      1\n",
              "2  2017-08-01 02:00:00        0.124251  ...          386739.15      0\n",
              "3  2017-08-01 03:00:00       -0.021037  ...          408360.03      1\n",
              "4  2017-08-01 04:00:00        0.055437  ...          637045.88      1\n",
              "\n",
              "[5 rows x 17 columns]"
            ]
          },
          "metadata": {},
          "execution_count": 4
        }
      ]
    },
    {
      "cell_type": "code",
      "metadata": {
        "colab": {
          "base_uri": "https://localhost:8080/"
        },
        "id": "9tQ9X3wAOb9x",
        "outputId": "6758388e-6663-45d7-f148-3dac2c193687"
      },
      "source": [
        "dataTypeSeries = df.dtypes\n",
        "print(dataTypeSeries)"
      ],
      "execution_count": 5,
      "outputs": [
        {
          "output_type": "stream",
          "name": "stdout",
          "text": [
            "Date                       object\n",
            "Compound_Score            float64\n",
            "Total Volume of Tweets    float64\n",
            "Count_Negatives           float64\n",
            "Count_Positives           float64\n",
            "Count_Neutrals            float64\n",
            "Sent_Negatives            float64\n",
            "Sent_Positives            float64\n",
            "Count_News                float64\n",
            "Count_Bots                float64\n",
            "Open                      float64\n",
            "High                      float64\n",
            "Low                       float64\n",
            "Close                     float64\n",
            "Volume (BTC)               object\n",
            "Volume (Currency)          object\n",
            "trend                       int64\n",
            "dtype: object\n"
          ]
        }
      ]
    },
    {
      "cell_type": "code",
      "metadata": {
        "colab": {
          "base_uri": "https://localhost:8080/"
        },
        "id": "iKnES1OjUxxj",
        "outputId": "42efd928-f2b0-4a33-d11e-77848fc13918"
      },
      "source": [
        "ds = df.isin([np.inf, -np.inf])\n",
        "print(ds)\n",
        "\n",
        "c = np.isinf(df['Count_Negatives']).values.sum()\n",
        "print(\"It contains \" + str(c) + \" infinite values\")"
      ],
      "execution_count": 28,
      "outputs": [
        {
          "output_type": "stream",
          "name": "stdout",
          "text": [
            "        Date  Compound_Score  ...  Volume (Currency)  trend\n",
            "0      False           False  ...              False  False\n",
            "1      False           False  ...              False  False\n",
            "2      False           False  ...              False  False\n",
            "3      False           False  ...              False  False\n",
            "4      False           False  ...              False  False\n",
            "...      ...             ...  ...                ...    ...\n",
            "12931  False           False  ...              False  False\n",
            "12932  False           False  ...              False  False\n",
            "12933  False           False  ...              False  False\n",
            "12934  False           False  ...              False  False\n",
            "12935  False           False  ...              False  False\n",
            "\n",
            "[12936 rows x 17 columns]\n",
            "It contains 0 infinite values\n"
          ]
        }
      ]
    },
    {
      "cell_type": "markdown",
      "metadata": {
        "id": "-H-E_ddZObuy"
      },
      "source": [
        ""
      ]
    },
    {
      "cell_type": "code",
      "metadata": {
        "colab": {
          "base_uri": "https://localhost:8080/"
        },
        "id": "OFAiiptESNdA",
        "outputId": "08c5ec67-36ab-4b0e-b1e9-73f822a93ac9"
      },
      "source": [
        "\n",
        "#df.dropna()\n",
        "\n",
        "df['Count_Negatives'].isnull().sum()\n",
        "\n",
        "df['trend'].isnull().sum()\n",
        "\n"
      ],
      "execution_count": 29,
      "outputs": [
        {
          "output_type": "execute_result",
          "data": {
            "text/plain": [
              "0"
            ]
          },
          "metadata": {},
          "execution_count": 29
        }
      ]
    },
    {
      "cell_type": "code",
      "metadata": {
        "colab": {
          "base_uri": "https://localhost:8080/"
        },
        "id": "ZE-okZPBTmqm",
        "outputId": "7965cfbc-a284-4e9e-ebfe-1d93df22516c"
      },
      "source": [
        "df['Count_Negatives'].max()"
      ],
      "execution_count": 30,
      "outputs": [
        {
          "output_type": "execute_result",
          "data": {
            "text/plain": [
              "3085.0"
            ]
          },
          "metadata": {},
          "execution_count": 30
        }
      ]
    },
    {
      "cell_type": "markdown",
      "metadata": {
        "id": "1G2H6n99J1gH"
      },
      "source": [
        "## Dataset"
      ]
    },
    {
      "cell_type": "markdown",
      "metadata": {
        "id": "O_3m_vWaJ1gK"
      },
      "source": [
        "## Variables (Baseline Model)"
      ]
    },
    {
      "cell_type": "code",
      "metadata": {
        "id": "zYYe6SW2J1gK"
      },
      "source": [
        "# Independent variables/features\n",
        "\n",
        "X = np.array(df[\"trend\"])\n",
        "\n",
        "# Dependent/target variable\n",
        "y = np.array(df['Count_Negatives'])"
      ],
      "execution_count": 24,
      "outputs": []
    },
    {
      "cell_type": "markdown",
      "metadata": {
        "id": "oYSc9JCOJ1gL"
      },
      "source": [
        "## Train test split (Baseline Model)"
      ]
    },
    {
      "cell_type": "code",
      "metadata": {
        "id": "KoEvC0eRJ1gM"
      },
      "source": [
        "# Leave out the last 20% of the time-series data for test\n",
        "X_train, X_test, y_train, y_test = train_test_split(\n",
        "    X, y, test_size=0.20, random_state=0)"
      ],
      "execution_count": 25,
      "outputs": []
    },
    {
      "cell_type": "markdown",
      "metadata": {
        "id": "9u6itz9GJ1gM"
      },
      "source": [
        "## Dummy classifier (Baseline Model)"
      ]
    },
    {
      "cell_type": "code",
      "metadata": {
        "colab": {
          "base_uri": "https://localhost:8080/",
          "height": 371
        },
        "id": "iPdh6u79J1gN",
        "outputId": "5010a38c-b0a3-4045-8f2b-93ae928da6fe"
      },
      "source": [
        "dummy_clf = DummyClassifier(strategy=\"uniform\")\n",
        "dummy_clf.fit(X_train, y_train)\n",
        "\n",
        "print(\"Training set score: {:.3f}\".format(dummy_clf.score(X_train, y_train)))\n",
        "print(\"Test set score: {:.3f}\".format(dummy_clf.score(X_test, y_test)))"
      ],
      "execution_count": 26,
      "outputs": [
        {
          "output_type": "error",
          "ename": "ValueError",
          "evalue": "ignored",
          "traceback": [
            "\u001b[0;31m---------------------------------------------------------------------------\u001b[0m",
            "\u001b[0;31mValueError\u001b[0m                                Traceback (most recent call last)",
            "\u001b[0;32m<ipython-input-26-8603247c68b8>\u001b[0m in \u001b[0;36m<module>\u001b[0;34m()\u001b[0m\n\u001b[1;32m      2\u001b[0m \u001b[0mdummy_clf\u001b[0m\u001b[0;34m.\u001b[0m\u001b[0mfit\u001b[0m\u001b[0;34m(\u001b[0m\u001b[0mX_train\u001b[0m\u001b[0;34m,\u001b[0m \u001b[0my_train\u001b[0m\u001b[0;34m)\u001b[0m\u001b[0;34m\u001b[0m\u001b[0;34m\u001b[0m\u001b[0m\n\u001b[1;32m      3\u001b[0m \u001b[0;34m\u001b[0m\u001b[0m\n\u001b[0;32m----> 4\u001b[0;31m \u001b[0mprint\u001b[0m\u001b[0;34m(\u001b[0m\u001b[0;34m\"Training set score: {:.3f}\"\u001b[0m\u001b[0;34m.\u001b[0m\u001b[0mformat\u001b[0m\u001b[0;34m(\u001b[0m\u001b[0mdummy_clf\u001b[0m\u001b[0;34m.\u001b[0m\u001b[0mscore\u001b[0m\u001b[0;34m(\u001b[0m\u001b[0mX_train\u001b[0m\u001b[0;34m,\u001b[0m \u001b[0my_train\u001b[0m\u001b[0;34m)\u001b[0m\u001b[0;34m)\u001b[0m\u001b[0;34m)\u001b[0m\u001b[0;34m\u001b[0m\u001b[0;34m\u001b[0m\u001b[0m\n\u001b[0m\u001b[1;32m      5\u001b[0m \u001b[0mprint\u001b[0m\u001b[0;34m(\u001b[0m\u001b[0;34m\"Test set score: {:.3f}\"\u001b[0m\u001b[0;34m.\u001b[0m\u001b[0mformat\u001b[0m\u001b[0;34m(\u001b[0m\u001b[0mdummy_clf\u001b[0m\u001b[0;34m.\u001b[0m\u001b[0mscore\u001b[0m\u001b[0;34m(\u001b[0m\u001b[0mX_test\u001b[0m\u001b[0;34m,\u001b[0m \u001b[0my_test\u001b[0m\u001b[0;34m)\u001b[0m\u001b[0;34m)\u001b[0m\u001b[0;34m)\u001b[0m\u001b[0;34m\u001b[0m\u001b[0;34m\u001b[0m\u001b[0m\n",
            "\u001b[0;32m/usr/local/lib/python3.7/dist-packages/sklearn/dummy.py\u001b[0m in \u001b[0;36mscore\u001b[0;34m(self, X, y, sample_weight)\u001b[0m\n\u001b[1;32m    421\u001b[0m         \u001b[0;32mif\u001b[0m \u001b[0mX\u001b[0m \u001b[0;32mis\u001b[0m \u001b[0;32mNone\u001b[0m\u001b[0;34m:\u001b[0m\u001b[0;34m\u001b[0m\u001b[0;34m\u001b[0m\u001b[0m\n\u001b[1;32m    422\u001b[0m             \u001b[0mX\u001b[0m \u001b[0;34m=\u001b[0m \u001b[0mnp\u001b[0m\u001b[0;34m.\u001b[0m\u001b[0mzeros\u001b[0m\u001b[0;34m(\u001b[0m\u001b[0mshape\u001b[0m\u001b[0;34m=\u001b[0m\u001b[0;34m(\u001b[0m\u001b[0mlen\u001b[0m\u001b[0;34m(\u001b[0m\u001b[0my\u001b[0m\u001b[0;34m)\u001b[0m\u001b[0;34m,\u001b[0m \u001b[0;36m1\u001b[0m\u001b[0;34m)\u001b[0m\u001b[0;34m)\u001b[0m\u001b[0;34m\u001b[0m\u001b[0;34m\u001b[0m\u001b[0m\n\u001b[0;32m--> 423\u001b[0;31m         \u001b[0;32mreturn\u001b[0m \u001b[0msuper\u001b[0m\u001b[0;34m(\u001b[0m\u001b[0;34m)\u001b[0m\u001b[0;34m.\u001b[0m\u001b[0mscore\u001b[0m\u001b[0;34m(\u001b[0m\u001b[0mX\u001b[0m\u001b[0;34m,\u001b[0m \u001b[0my\u001b[0m\u001b[0;34m,\u001b[0m \u001b[0msample_weight\u001b[0m\u001b[0;34m)\u001b[0m\u001b[0;34m\u001b[0m\u001b[0;34m\u001b[0m\u001b[0m\n\u001b[0m\u001b[1;32m    424\u001b[0m \u001b[0;34m\u001b[0m\u001b[0m\n\u001b[1;32m    425\u001b[0m     \u001b[0;31m# TODO: Remove in 1.2\u001b[0m\u001b[0;34m\u001b[0m\u001b[0;34m\u001b[0m\u001b[0;34m\u001b[0m\u001b[0m\n",
            "\u001b[0;32m/usr/local/lib/python3.7/dist-packages/sklearn/base.py\u001b[0m in \u001b[0;36mscore\u001b[0;34m(self, X, y, sample_weight)\u001b[0m\n\u001b[1;32m    644\u001b[0m         \u001b[0;32mfrom\u001b[0m \u001b[0;34m.\u001b[0m\u001b[0mmetrics\u001b[0m \u001b[0;32mimport\u001b[0m \u001b[0maccuracy_score\u001b[0m\u001b[0;34m\u001b[0m\u001b[0;34m\u001b[0m\u001b[0m\n\u001b[1;32m    645\u001b[0m \u001b[0;34m\u001b[0m\u001b[0m\n\u001b[0;32m--> 646\u001b[0;31m         \u001b[0;32mreturn\u001b[0m \u001b[0maccuracy_score\u001b[0m\u001b[0;34m(\u001b[0m\u001b[0my\u001b[0m\u001b[0;34m,\u001b[0m \u001b[0mself\u001b[0m\u001b[0;34m.\u001b[0m\u001b[0mpredict\u001b[0m\u001b[0;34m(\u001b[0m\u001b[0mX\u001b[0m\u001b[0;34m)\u001b[0m\u001b[0;34m,\u001b[0m \u001b[0msample_weight\u001b[0m\u001b[0;34m=\u001b[0m\u001b[0msample_weight\u001b[0m\u001b[0;34m)\u001b[0m\u001b[0;34m\u001b[0m\u001b[0;34m\u001b[0m\u001b[0m\n\u001b[0m\u001b[1;32m    647\u001b[0m \u001b[0;34m\u001b[0m\u001b[0m\n\u001b[1;32m    648\u001b[0m     \u001b[0;32mdef\u001b[0m \u001b[0m_more_tags\u001b[0m\u001b[0;34m(\u001b[0m\u001b[0mself\u001b[0m\u001b[0;34m)\u001b[0m\u001b[0;34m:\u001b[0m\u001b[0;34m\u001b[0m\u001b[0;34m\u001b[0m\u001b[0m\n",
            "\u001b[0;32m/usr/local/lib/python3.7/dist-packages/sklearn/metrics/_classification.py\u001b[0m in \u001b[0;36maccuracy_score\u001b[0;34m(y_true, y_pred, normalize, sample_weight)\u001b[0m\n\u001b[1;32m    203\u001b[0m \u001b[0;34m\u001b[0m\u001b[0m\n\u001b[1;32m    204\u001b[0m     \u001b[0;31m# Compute accuracy for each possible representation\u001b[0m\u001b[0;34m\u001b[0m\u001b[0;34m\u001b[0m\u001b[0;34m\u001b[0m\u001b[0m\n\u001b[0;32m--> 205\u001b[0;31m     \u001b[0my_type\u001b[0m\u001b[0;34m,\u001b[0m \u001b[0my_true\u001b[0m\u001b[0;34m,\u001b[0m \u001b[0my_pred\u001b[0m \u001b[0;34m=\u001b[0m \u001b[0m_check_targets\u001b[0m\u001b[0;34m(\u001b[0m\u001b[0my_true\u001b[0m\u001b[0;34m,\u001b[0m \u001b[0my_pred\u001b[0m\u001b[0;34m)\u001b[0m\u001b[0;34m\u001b[0m\u001b[0;34m\u001b[0m\u001b[0m\n\u001b[0m\u001b[1;32m    206\u001b[0m     \u001b[0mcheck_consistent_length\u001b[0m\u001b[0;34m(\u001b[0m\u001b[0my_true\u001b[0m\u001b[0;34m,\u001b[0m \u001b[0my_pred\u001b[0m\u001b[0;34m,\u001b[0m \u001b[0msample_weight\u001b[0m\u001b[0;34m)\u001b[0m\u001b[0;34m\u001b[0m\u001b[0;34m\u001b[0m\u001b[0m\n\u001b[1;32m    207\u001b[0m     \u001b[0;32mif\u001b[0m \u001b[0my_type\u001b[0m\u001b[0;34m.\u001b[0m\u001b[0mstartswith\u001b[0m\u001b[0;34m(\u001b[0m\u001b[0;34m\"multilabel\"\u001b[0m\u001b[0;34m)\u001b[0m\u001b[0;34m:\u001b[0m\u001b[0;34m\u001b[0m\u001b[0;34m\u001b[0m\u001b[0m\n",
            "\u001b[0;32m/usr/local/lib/python3.7/dist-packages/sklearn/metrics/_classification.py\u001b[0m in \u001b[0;36m_check_targets\u001b[0;34m(y_true, y_pred)\u001b[0m\n\u001b[1;32m     83\u001b[0m     \"\"\"\n\u001b[1;32m     84\u001b[0m     \u001b[0mcheck_consistent_length\u001b[0m\u001b[0;34m(\u001b[0m\u001b[0my_true\u001b[0m\u001b[0;34m,\u001b[0m \u001b[0my_pred\u001b[0m\u001b[0;34m)\u001b[0m\u001b[0;34m\u001b[0m\u001b[0;34m\u001b[0m\u001b[0m\n\u001b[0;32m---> 85\u001b[0;31m     \u001b[0mtype_true\u001b[0m \u001b[0;34m=\u001b[0m \u001b[0mtype_of_target\u001b[0m\u001b[0;34m(\u001b[0m\u001b[0my_true\u001b[0m\u001b[0;34m)\u001b[0m\u001b[0;34m\u001b[0m\u001b[0;34m\u001b[0m\u001b[0m\n\u001b[0m\u001b[1;32m     86\u001b[0m     \u001b[0mtype_pred\u001b[0m \u001b[0;34m=\u001b[0m \u001b[0mtype_of_target\u001b[0m\u001b[0;34m(\u001b[0m\u001b[0my_pred\u001b[0m\u001b[0;34m)\u001b[0m\u001b[0;34m\u001b[0m\u001b[0;34m\u001b[0m\u001b[0m\n\u001b[1;32m     87\u001b[0m \u001b[0;34m\u001b[0m\u001b[0m\n",
            "\u001b[0;32m/usr/local/lib/python3.7/dist-packages/sklearn/utils/multiclass.py\u001b[0m in \u001b[0;36mtype_of_target\u001b[0;34m(y)\u001b[0m\n\u001b[1;32m    323\u001b[0m     \u001b[0;32mif\u001b[0m \u001b[0my\u001b[0m\u001b[0;34m.\u001b[0m\u001b[0mdtype\u001b[0m\u001b[0;34m.\u001b[0m\u001b[0mkind\u001b[0m \u001b[0;34m==\u001b[0m \u001b[0;34m\"f\"\u001b[0m \u001b[0;32mand\u001b[0m \u001b[0mnp\u001b[0m\u001b[0;34m.\u001b[0m\u001b[0many\u001b[0m\u001b[0;34m(\u001b[0m\u001b[0my\u001b[0m \u001b[0;34m!=\u001b[0m \u001b[0my\u001b[0m\u001b[0;34m.\u001b[0m\u001b[0mastype\u001b[0m\u001b[0;34m(\u001b[0m\u001b[0mint\u001b[0m\u001b[0;34m)\u001b[0m\u001b[0;34m)\u001b[0m\u001b[0;34m:\u001b[0m\u001b[0;34m\u001b[0m\u001b[0;34m\u001b[0m\u001b[0m\n\u001b[1;32m    324\u001b[0m         \u001b[0;31m# [.1, .2, 3] or [[.1, .2, 3]] or [[1., .2]] and not [1., 2., 3.]\u001b[0m\u001b[0;34m\u001b[0m\u001b[0;34m\u001b[0m\u001b[0;34m\u001b[0m\u001b[0m\n\u001b[0;32m--> 325\u001b[0;31m         \u001b[0m_assert_all_finite\u001b[0m\u001b[0;34m(\u001b[0m\u001b[0my\u001b[0m\u001b[0;34m)\u001b[0m\u001b[0;34m\u001b[0m\u001b[0;34m\u001b[0m\u001b[0m\n\u001b[0m\u001b[1;32m    326\u001b[0m         \u001b[0;32mreturn\u001b[0m \u001b[0;34m\"continuous\"\u001b[0m \u001b[0;34m+\u001b[0m \u001b[0msuffix\u001b[0m\u001b[0;34m\u001b[0m\u001b[0;34m\u001b[0m\u001b[0m\n\u001b[1;32m    327\u001b[0m \u001b[0;34m\u001b[0m\u001b[0m\n",
            "\u001b[0;32m/usr/local/lib/python3.7/dist-packages/sklearn/utils/validation.py\u001b[0m in \u001b[0;36m_assert_all_finite\u001b[0;34m(X, allow_nan, msg_dtype)\u001b[0m\n\u001b[1;32m    114\u001b[0m             raise ValueError(\n\u001b[1;32m    115\u001b[0m                 msg_err.format(\n\u001b[0;32m--> 116\u001b[0;31m                     \u001b[0mtype_err\u001b[0m\u001b[0;34m,\u001b[0m \u001b[0mmsg_dtype\u001b[0m \u001b[0;32mif\u001b[0m \u001b[0mmsg_dtype\u001b[0m \u001b[0;32mis\u001b[0m \u001b[0;32mnot\u001b[0m \u001b[0;32mNone\u001b[0m \u001b[0;32melse\u001b[0m \u001b[0mX\u001b[0m\u001b[0;34m.\u001b[0m\u001b[0mdtype\u001b[0m\u001b[0;34m\u001b[0m\u001b[0;34m\u001b[0m\u001b[0m\n\u001b[0m\u001b[1;32m    117\u001b[0m                 )\n\u001b[1;32m    118\u001b[0m             )\n",
            "\u001b[0;31mValueError\u001b[0m: Input contains NaN, infinity or a value too large for dtype('float64')."
          ]
        }
      ]
    },
    {
      "cell_type": "code",
      "metadata": {
        "id": "OZ8mQQbpJ1gN",
        "outputId": "50744628-6531-4f14-b140-3812adb28adb"
      },
      "source": [
        "y_pred = dummy_clf.predict(X_test)\n",
        "print(classification_report(y_test, y_pred))"
      ],
      "execution_count": null,
      "outputs": [
        {
          "name": "stdout",
          "output_type": "stream",
          "text": [
            "              precision    recall  f1-score   support\n",
            "\n",
            "           0       0.58      0.54      0.56       141\n",
            "           1       0.50      0.55      0.52       119\n",
            "\n",
            "    accuracy                           0.54       260\n",
            "   macro avg       0.54      0.54      0.54       260\n",
            "weighted avg       0.55      0.54      0.54       260\n",
            "\n"
          ]
        }
      ]
    },
    {
      "cell_type": "markdown",
      "metadata": {
        "id": "vacbuQpBJ1gN"
      },
      "source": [
        "## Classification models"
      ]
    },
    {
      "cell_type": "markdown",
      "metadata": {
        "id": "6_53mjUoJ1gO"
      },
      "source": [
        "- Logistic Regression\n",
        "- Support Vector Machines (SVM)\n",
        "- MLP\n",
        "- Decision Tree (tree-based)\n",
        "- Random Forest (tree-based)\n",
        "- Gradient Boosting (tree-based)\n",
        "- KNN"
      ]
    },
    {
      "cell_type": "markdown",
      "metadata": {
        "id": "cLaSJKoJJ1gO"
      },
      "source": [
        "## Variables"
      ]
    },
    {
      "cell_type": "code",
      "metadata": {
        "id": "39-EnYBtJ1gO"
      },
      "source": [
        "# Independent variables/features\n",
        "\n",
        "X = np.array(df[[\"score_p\", \"score_c\", \"negative_c\", \"negative_p\", \"positive_c\", \"positive_p\",\n",
        "                \"count_c\", \"count_p\"]])\n",
        "\n",
        "# Dependent/target variable\n",
        "y = np.array(df['trend'])"
      ],
      "execution_count": null,
      "outputs": []
    },
    {
      "cell_type": "markdown",
      "metadata": {
        "id": "9q2W0NDjJ1gO"
      },
      "source": [
        "## Train test split"
      ]
    },
    {
      "cell_type": "code",
      "metadata": {
        "id": "geS6ZVBmJ1gP"
      },
      "source": [
        "X_train, X_test, y_train, y_test = train_test_split(\n",
        "    X, y, random_state=0, shuffle=True)"
      ],
      "execution_count": null,
      "outputs": []
    },
    {
      "cell_type": "markdown",
      "metadata": {
        "id": "BKgtxPJHJ1gP"
      },
      "source": [
        "#### Logistic Regression"
      ]
    },
    {
      "cell_type": "code",
      "metadata": {
        "id": "w09zzo9XJ1gP",
        "outputId": "ca41f538-2c26-4894-af84-c702b18fe31a"
      },
      "source": [
        "pipeLogR = Pipeline([(\"scaler\", MinMaxScaler()), (\"logreg\", LogisticRegression(max_iter=10000, random_state=0))])\n",
        "\n",
        "param_grid = {\"logreg__C\": [0.0001, 0.001, 0.01, 0.5, 1.0, 10.0, 100, 1000],\n",
        "             \"scaler\": [MinMaxScaler(), StandardScaler(), None]}\n",
        "\n",
        "grid = GridSearchCV(pipeLogR, param_grid=param_grid, cv=5)\n",
        "grid.fit(X_train, y_train)\n",
        "\n",
        "print(\"Training accuracy: {:.3f}\".format(grid.score(X_train, y_train)))\n",
        "print(\"Best cross-validation accuracy: {:.3f}\".format(grid.best_score_))\n",
        "print(\"Test set score: {:.3f}\".format(grid.score(X_test, y_test)))\n",
        "print(\"Best parameters: {}\".format(grid.best_params_))"
      ],
      "execution_count": null,
      "outputs": [
        {
          "name": "stdout",
          "output_type": "stream",
          "text": [
            "Training accuracy: 0.564\n",
            "Best cross-validation accuracy: 0.536\n",
            "Test set score: 0.529\n",
            "Best parameters: {'logreg__C': 0.01, 'scaler': StandardScaler()}\n"
          ]
        }
      ]
    },
    {
      "cell_type": "code",
      "metadata": {
        "id": "VQyp9VNiJ1gP",
        "outputId": "95ce77b3-aa7f-4871-e5e8-165c7287ce64"
      },
      "source": [
        "y_pred = grid.predict(X_test)\n",
        "print(y_pred[:250])\n",
        "print(classification_report(y_test, y_pred))"
      ],
      "execution_count": null,
      "outputs": [
        {
          "name": "stdout",
          "output_type": "stream",
          "text": [
            "[0 0 1 1 0 1 1 0 0 0 1 0 0 0 0 0 0 0 0 0 0 1 1 0 1 1 1 0 0 1 1 0 1 0 0 0 0\n",
            " 0 0 1 0 0 0 0 1 1 0 0 0 0 0 0 1 0 1 1 1 1 0 0 0 0 0 0 0 1 0 1 1 1 0 0 0 1\n",
            " 0 0 0 1 1 1 0 1 1 0 1 1 1 0 0 0 1 0 0 1 0 1 1 1 0 0 0 1 0 1 1 1 1 0 0 0 0\n",
            " 1 0 1 1 0 0 1 1 0 0 0 0 0 1 0 1 0 1 0 0 1 0 1 1 1 1 0 0 1 1 1 1 1 1 1 0 1\n",
            " 1 1 0 0 0 1 0 0 1 1 0 1 1 0 1 0 0 0 1 0 1 0 1 0 1 0 0 0 1 1 0 0 1 0 0 0 0\n",
            " 0 0 0 0 1 1 1 1 0 0 0 1 0 0 0 0 0 0 1 0 1 0 1 0 1 1 0 1 0 1 0 0 0 0 1 0 1\n",
            " 1 1 1 1 1 0 1 1 1 1 0 1 0 0 0 0 1 1 0 1 1 0 1 1 0 0 0 0]\n",
            "              precision    recall  f1-score   support\n",
            "\n",
            "           0       0.59      0.57      0.58       184\n",
            "           1       0.46      0.48      0.47       141\n",
            "\n",
            "    accuracy                           0.53       325\n",
            "   macro avg       0.52      0.52      0.52       325\n",
            "weighted avg       0.53      0.53      0.53       325\n",
            "\n"
          ]
        }
      ]
    },
    {
      "cell_type": "markdown",
      "metadata": {
        "id": "NoHxSQcuJ1gQ"
      },
      "source": [
        "#### MLP"
      ]
    },
    {
      "cell_type": "code",
      "metadata": {
        "id": "EURYqdnnJ1gQ",
        "outputId": "5c372504-c17e-4c05-f461-37721a07dd83"
      },
      "source": [
        "pipeMLP = Pipeline([(\"scaler\", MinMaxScaler()), (\"MLP\", MLPClassifier(max_iter=10000, random_state=0))])\n",
        "\n",
        "param_grid = {\"MLP__alpha\": [0.001, 0.01, 0.1, 1, 10, 100, 1000], \n",
        "              \"MLP__hidden_layer_sizes\": [(50, 50), (50, 100), (100, 50), (100, 100)],\n",
        "             \"scaler\": [MinMaxScaler(), StandardScaler(), None]}\n",
        "\n",
        "grid = GridSearchCV(pipeMLP, param_grid=param_grid, cv=5)\n",
        "\n",
        "grid.fit(X_train, y_train)\n",
        "\n",
        "print(\"Best cross-validation accuracy: {:.3f}\".format(grid.best_score_))\n",
        "print(\"Test set score: {:.3f}\".format(grid.score(X_test, y_test)))\n",
        "print(\"Best parameters: {}\".format(grid.best_params_))"
      ],
      "execution_count": null,
      "outputs": [
        {
          "name": "stdout",
          "output_type": "stream",
          "text": [
            "Best cross-validation accuracy: 0.548\n",
            "Test set score: 0.563\n",
            "Best parameters: {'MLP__alpha': 0.1, 'MLP__hidden_layer_sizes': (50, 100), 'scaler': None}\n"
          ]
        }
      ]
    },
    {
      "cell_type": "code",
      "metadata": {
        "id": "HeUGEWN7J1gQ",
        "outputId": "24c44109-85e1-43ef-81ce-669cac96c278"
      },
      "source": [
        "y_pred = grid.predict(X_test)\n",
        "print(y_pred[:250])\n",
        "print(classification_report(y_test, y_pred))"
      ],
      "execution_count": null,
      "outputs": [
        {
          "name": "stdout",
          "output_type": "stream",
          "text": [
            "[0 0 1 1 0 1 0 0 0 0 0 0 0 1 1 1 0 1 0 0 0 1 1 1 1 1 1 1 0 1 1 0 1 0 0 0 0\n",
            " 0 1 1 0 0 0 0 0 0 0 0 0 1 1 1 0 0 1 1 0 1 0 0 0 0 0 0 0 1 0 0 1 0 0 0 0 1\n",
            " 0 0 0 1 1 1 1 1 1 1 1 1 1 1 1 0 1 0 1 1 1 1 1 0 0 1 0 1 1 0 1 1 0 1 1 0 1\n",
            " 1 0 1 0 0 0 0 1 0 0 0 0 1 1 0 1 0 1 1 1 1 1 1 1 1 1 0 0 0 0 1 1 0 1 1 0 1\n",
            " 1 0 0 1 0 1 0 0 1 1 0 1 1 0 1 0 0 1 1 0 1 0 0 0 0 0 0 0 1 1 1 1 0 0 1 1 0\n",
            " 0 1 0 0 0 0 1 1 0 1 0 0 1 0 1 1 0 1 0 0 1 0 1 0 1 1 0 0 0 1 1 0 1 0 1 1 1\n",
            " 0 0 0 1 1 0 0 0 0 1 0 1 1 0 0 0 1 1 1 1 1 0 1 1 0 0 0 1]\n",
            "              precision    recall  f1-score   support\n",
            "\n",
            "           0       0.62      0.58      0.60       184\n",
            "           1       0.50      0.55      0.52       141\n",
            "\n",
            "    accuracy                           0.56       325\n",
            "   macro avg       0.56      0.56      0.56       325\n",
            "weighted avg       0.57      0.56      0.56       325\n",
            "\n"
          ]
        }
      ]
    },
    {
      "cell_type": "markdown",
      "metadata": {
        "id": "95q3lrh8J1gR"
      },
      "source": [
        "#### Support Vector Machines"
      ]
    },
    {
      "cell_type": "code",
      "metadata": {
        "id": "FPSXg97vJ1gR",
        "outputId": "dff79253-5123-44ed-da54-56f824c04cf7"
      },
      "source": [
        "pipeSVC = Pipeline([(\"scaler\", MinMaxScaler()), (\"SVC\", SVC(random_state=0))])\n",
        "\n",
        "param_grid = {\"SVC__gamma\": [0.001, 0.01, 0.1, 1, 10, 100, 1000],\n",
        "             \"SVC__C\": [0.001, 0.01, 0.1, 1, 10, 100, 1000], \n",
        "              \"scaler\": [MinMaxScaler(), StandardScaler(), None]}\n",
        "\n",
        "grid_model = GridSearchCV(pipeSVC, param_grid=param_grid, cv=5)\n",
        "\n",
        "grid_model.fit(X_train, y_train)\n",
        "\n",
        "print(\"Best cross-validation accuracy: {:.3f}\".format(grid_model.best_score_))\n",
        "print(\"Test set score: {:.3f}\".format(grid_model.score(X_test, y_test)))\n",
        "print(\"Best parameters: {}\".format(grid_model.best_params_))"
      ],
      "execution_count": null,
      "outputs": [
        {
          "name": "stdout",
          "output_type": "stream",
          "text": [
            "Best cross-validation accuracy: 0.548\n",
            "Test set score: 0.502\n",
            "Best parameters: {'SVC__C': 100, 'SVC__gamma': 0.001, 'scaler': StandardScaler()}\n"
          ]
        }
      ]
    },
    {
      "cell_type": "code",
      "metadata": {
        "id": "RrkqkhtMJ1gR",
        "outputId": "2921add6-7efb-44e1-b175-94122d2bbc7a"
      },
      "source": [
        "y_pred = grid.predict(X_test)\n",
        "print(y_pred[:250])\n",
        "print(classification_report(y_test, y_pred))"
      ],
      "execution_count": null,
      "outputs": [
        {
          "name": "stdout",
          "output_type": "stream",
          "text": [
            "[0 0 1 1 0 1 0 0 0 0 0 0 0 1 1 1 0 1 0 0 0 1 1 1 1 1 1 1 0 1 1 0 1 0 0 0 0\n",
            " 0 1 1 0 0 0 0 0 0 0 0 0 1 1 1 0 0 1 1 0 1 0 0 0 0 0 0 0 1 0 0 1 0 0 0 0 1\n",
            " 0 0 0 1 1 1 1 1 1 1 1 1 1 1 1 0 1 0 1 1 1 1 1 0 0 1 0 1 1 0 1 1 0 1 1 0 1\n",
            " 1 0 1 0 0 0 0 1 0 0 0 0 1 1 0 1 0 1 1 1 1 1 1 1 1 1 0 0 0 0 1 1 0 1 1 0 1\n",
            " 1 0 0 1 0 1 0 0 1 1 0 1 1 0 1 0 0 1 1 0 1 0 0 0 0 0 0 0 1 1 1 1 0 0 1 1 0\n",
            " 0 1 0 0 0 0 1 1 0 1 0 0 1 0 1 1 0 1 0 0 1 0 1 0 1 1 0 0 0 1 1 0 1 0 1 1 1\n",
            " 0 0 0 1 1 0 0 0 0 1 0 1 1 0 0 0 1 1 1 1 1 0 1 1 0 0 0 1]\n",
            "              precision    recall  f1-score   support\n",
            "\n",
            "           0       0.62      0.58      0.60       184\n",
            "           1       0.50      0.55      0.52       141\n",
            "\n",
            "    accuracy                           0.56       325\n",
            "   macro avg       0.56      0.56      0.56       325\n",
            "weighted avg       0.57      0.56      0.56       325\n",
            "\n"
          ]
        }
      ]
    },
    {
      "cell_type": "markdown",
      "metadata": {
        "id": "DEGusOZMJ1gR"
      },
      "source": [
        "###### Decision Tree"
      ]
    },
    {
      "cell_type": "code",
      "metadata": {
        "id": "QBMwkDtdJ1gR",
        "outputId": "0c55f84f-1f09-44e0-863c-d3547a886236"
      },
      "source": [
        "pipeDT = Pipeline([(\"scaler\", None), (\"DT\", DecisionTreeClassifier(random_state=0))])\n",
        "\n",
        "param_grid = {\"DT__max_depth\": [2, 3, 4, 5, 6, 7, 8],\n",
        "             \"scaler\": [None]}\n",
        "\n",
        "grid = GridSearchCV(pipeDT, param_grid=param_grid, cv=5)\n",
        "\n",
        "grid.fit(X_train, y_train)\n",
        "\n",
        "print(\"Best cross-validation accuracy: {:.3f}\".format(grid.best_score_))\n",
        "print(\"Test set score: {:.3f}\".format(grid.score(X_test, y_test)))\n",
        "print(\"Best parameters: {}\".format(grid.best_params_))"
      ],
      "execution_count": null,
      "outputs": [
        {
          "name": "stdout",
          "output_type": "stream",
          "text": [
            "Best cross-validation accuracy: 0.550\n",
            "Test set score: 0.557\n",
            "Best parameters: {'DT__max_depth': 6, 'scaler': None}\n"
          ]
        }
      ]
    },
    {
      "cell_type": "code",
      "metadata": {
        "id": "0kxEPCsUJ1gS",
        "outputId": "df319104-1da6-4a91-8373-88ff72fb2f61"
      },
      "source": [
        "y_pred = grid.predict(X_test)\n",
        "print(y_pred[:250])\n",
        "print(classification_report(y_test, y_pred))"
      ],
      "execution_count": null,
      "outputs": [
        {
          "name": "stdout",
          "output_type": "stream",
          "text": [
            "[0 0 1 1 0 1 0 0 0 0 0 0 0 1 1 1 0 1 1 0 0 1 0 1 1 0 1 0 0 0 1 0 1 1 1 0 0\n",
            " 0 1 1 0 0 0 0 0 0 0 1 0 1 1 1 1 0 1 1 0 1 0 0 0 0 0 0 0 1 1 0 1 1 0 0 0 1\n",
            " 0 0 0 1 1 0 1 1 1 1 1 0 1 1 1 0 1 0 1 1 1 0 0 0 1 0 0 1 0 0 1 1 1 0 1 0 1\n",
            " 1 0 1 1 0 0 0 1 0 0 0 0 1 1 0 1 0 1 1 1 1 1 0 1 1 1 0 0 0 1 0 0 0 0 1 0 0\n",
            " 0 0 0 0 0 1 0 0 1 1 0 0 0 0 1 0 0 1 1 1 1 0 1 0 0 0 0 0 1 0 0 1 0 0 0 1 1\n",
            " 1 1 1 0 0 1 0 1 0 0 0 1 1 0 0 1 0 1 1 0 1 0 1 0 1 0 0 1 0 1 0 0 1 1 0 1 1\n",
            " 1 0 1 1 1 1 0 1 0 0 0 1 0 0 1 0 1 0 0 0 1 0 1 1 0 0 0 1]\n",
            "              precision    recall  f1-score   support\n",
            "\n",
            "           0       0.61      0.61      0.61       184\n",
            "           1       0.49      0.48      0.49       141\n",
            "\n",
            "    accuracy                           0.56       325\n",
            "   macro avg       0.55      0.55      0.55       325\n",
            "weighted avg       0.56      0.56      0.56       325\n",
            "\n"
          ]
        }
      ]
    },
    {
      "cell_type": "markdown",
      "metadata": {
        "id": "Kuqv-oIfJ1gS"
      },
      "source": [
        "#### Random Forest"
      ]
    },
    {
      "cell_type": "code",
      "metadata": {
        "id": "ohmzZ6iJJ1gS",
        "outputId": "4c7b476c-a4a0-484c-d3ef-92bc92c58440"
      },
      "source": [
        "pipeRF = Pipeline([(\"scaler\", None), (\"RF\", RandomForestClassifier(random_state=0))])\n",
        "\n",
        "param_grid = {\"RF__max_depth\": [1, 2, 3, 4, 5, 6, 7, 8, 9, 10],\n",
        "             \"RF__n_estimators\": [25, 50, 75, 100],\n",
        "             \"scaler\": [None]}\n",
        "\n",
        "grid = GridSearchCV(pipeRF, param_grid=param_grid, cv=5)\n",
        "\n",
        "grid.fit(X_train, y_train)\n",
        "\n",
        "print(\"Best cross-validation accuracy: {:.3f}\".format(grid.best_score_))\n",
        "print(\"Test set score: {:.3f}\".format(grid.score(X_test, y_test)))\n",
        "print(\"Best parameters: {}\".format(grid.best_params_))"
      ],
      "execution_count": null,
      "outputs": [
        {
          "name": "stdout",
          "output_type": "stream",
          "text": [
            "Best cross-validation accuracy: 0.552\n",
            "Test set score: 0.551\n",
            "Best parameters: {'RF__max_depth': 10, 'RF__n_estimators': 75, 'scaler': None}\n"
          ]
        }
      ]
    },
    {
      "cell_type": "code",
      "metadata": {
        "id": "6Uu4aZUsJ1gS",
        "outputId": "e8e72b4b-e86a-450d-9a8f-f834590ed3cf"
      },
      "source": [
        "y_pred = grid.predict(X_test)\n",
        "print(y_pred[:250])\n",
        "print(classification_report(y_test, y_pred))"
      ],
      "execution_count": null,
      "outputs": [
        {
          "name": "stdout",
          "output_type": "stream",
          "text": [
            "[0 0 1 1 0 1 1 0 0 0 1 0 0 1 0 0 0 1 1 0 0 1 1 1 1 1 1 0 0 0 1 0 1 1 1 0 0\n",
            " 0 0 1 0 0 0 0 1 0 0 0 0 1 1 0 1 0 1 1 0 1 0 0 0 0 0 0 0 1 1 0 1 1 0 0 0 0\n",
            " 0 0 0 1 1 1 1 1 1 1 1 0 1 0 0 0 1 0 0 0 0 0 0 0 1 0 0 1 0 1 1 1 1 0 1 0 0\n",
            " 1 0 1 0 0 0 0 1 0 0 0 0 0 0 0 1 0 1 0 0 1 0 0 1 0 1 0 0 0 1 0 1 0 1 0 0 0\n",
            " 0 1 0 0 0 0 0 0 1 1 0 1 1 0 1 0 0 0 1 1 1 0 1 0 0 0 0 0 1 0 0 1 0 0 0 1 0\n",
            " 1 0 0 0 0 1 0 0 0 0 0 1 1 0 0 0 0 1 1 0 1 0 1 0 1 0 0 1 0 1 0 0 1 0 0 1 1\n",
            " 1 1 1 1 1 1 1 1 1 1 0 1 0 0 1 0 1 1 0 0 0 0 1 0 0 0 0 1]\n",
            "              precision    recall  f1-score   support\n",
            "\n",
            "           0       0.60      0.64      0.62       184\n",
            "           1       0.48      0.44      0.46       141\n",
            "\n",
            "    accuracy                           0.55       325\n",
            "   macro avg       0.54      0.54      0.54       325\n",
            "weighted avg       0.55      0.55      0.55       325\n",
            "\n"
          ]
        }
      ]
    },
    {
      "cell_type": "markdown",
      "metadata": {
        "id": "7G9MslIVJ1gS"
      },
      "source": [
        "##### Gradient Boosting"
      ]
    },
    {
      "cell_type": "code",
      "metadata": {
        "id": "S4feL6pxJ1gS",
        "outputId": "45d2a07f-9cad-4f5a-d0c3-02d80b986fa7"
      },
      "source": [
        "pipeGB = Pipeline([(\"scaler\", None), (\"GB\", GradientBoostingClassifier(random_state=0))])\n",
        "\n",
        "param_grid = {\"GB__n_estimators\": [25, 50, 75, 100], \"GB__learning_rate\": [0.0001, 0.001, 0.01, 0.1],\n",
        "             \"scaler\": [None]}\n",
        "\n",
        "grid = GridSearchCV(pipeGB, param_grid=param_grid, cv=5)\n",
        "\n",
        "grid.fit(X_train, y_train)\n",
        "\n",
        "print(\"Best cross-validation accuracy: {:.3f}\".format(grid.best_score_))\n",
        "print(\"Test set score: {:.3f}\".format(grid.score(X_test, y_test)))\n",
        "print(\"Best parameters: {}\".format(grid.best_params_))"
      ],
      "execution_count": null,
      "outputs": [
        {
          "name": "stdout",
          "output_type": "stream",
          "text": [
            "Best cross-validation accuracy: 0.550\n",
            "Test set score: 0.572\n",
            "Best parameters: {'GB__learning_rate': 0.01, 'GB__n_estimators': 50, 'scaler': None}\n"
          ]
        }
      ]
    },
    {
      "cell_type": "code",
      "metadata": {
        "id": "MsxGR2g4J1gS",
        "outputId": "d467bfa7-3a9d-4dc8-869f-eb03ee5bbc78"
      },
      "source": [
        "y_pred = grid.predict(X_test)\n",
        "print(y_pred[:250])\n",
        "print(classification_report(y_test, y_pred))"
      ],
      "execution_count": null,
      "outputs": [
        {
          "name": "stdout",
          "output_type": "stream",
          "text": [
            "[0 0 1 1 0 1 0 0 0 0 0 0 0 1 1 1 0 1 1 0 0 1 0 1 1 1 1 0 0 0 1 0 1 1 0 0 0\n",
            " 0 0 1 0 0 0 0 0 0 0 1 0 1 1 1 1 0 1 1 0 1 0 0 0 0 0 0 0 1 1 0 0 1 0 0 0 0\n",
            " 0 0 0 1 1 0 0 1 1 1 1 0 0 0 0 0 1 0 1 1 0 0 0 1 1 0 0 1 0 0 1 1 0 0 1 0 0\n",
            " 1 0 1 0 0 0 0 1 0 0 0 0 0 1 0 1 0 1 1 1 1 1 0 1 1 0 0 0 0 1 1 0 1 0 0 0 0\n",
            " 0 0 0 0 0 0 0 0 1 1 0 0 0 0 1 0 0 1 1 1 1 0 1 0 0 0 0 0 1 0 0 1 0 0 0 1 1\n",
            " 1 1 1 0 0 1 0 1 0 0 0 1 1 0 0 1 0 1 1 0 1 0 1 0 1 0 0 1 0 1 0 0 0 0 0 1 1\n",
            " 0 0 1 0 1 1 0 1 0 0 0 0 0 0 1 0 1 0 0 0 0 0 1 0 0 0 0 1]\n",
            "              precision    recall  f1-score   support\n",
            "\n",
            "           0       0.61      0.69      0.65       184\n",
            "           1       0.51      0.42      0.46       141\n",
            "\n",
            "    accuracy                           0.57       325\n",
            "   macro avg       0.56      0.55      0.55       325\n",
            "weighted avg       0.56      0.57      0.57       325\n",
            "\n"
          ]
        }
      ]
    },
    {
      "cell_type": "markdown",
      "metadata": {
        "id": "PoiZd8JLJ1gT"
      },
      "source": [
        "###### KNN"
      ]
    },
    {
      "cell_type": "code",
      "metadata": {
        "id": "uVUmeGDAJ1gT",
        "outputId": "a3547533-4813-47d3-ff3f-67a3eca4500b"
      },
      "source": [
        "pipeKNN = Pipeline([(\"scaler\", MinMaxScaler()), (\"KNN\", KNeighborsClassifier())])\n",
        "\n",
        "param_grid = {\"KNN__n_neighbors\": [3, 5, 7, 9, 11, 13, 15],\n",
        "             \"scaler\": [MinMaxScaler(), StandardScaler(), None]}\n",
        "\n",
        "grid = GridSearchCV(pipeKNN, param_grid=param_grid, cv=5)\n",
        "\n",
        "grid.fit(X_train, y_train)\n",
        "\n",
        "print(\"Best cross-validation accuracy: {:.3f}\".format(grid.best_score_))\n",
        "print(\"Test set score: {:.3f}\".format(grid.score(X_test, y_test)))\n",
        "print(\"Best parameters: {}\".format(grid.best_params_))"
      ],
      "execution_count": null,
      "outputs": [
        {
          "name": "stdout",
          "output_type": "stream",
          "text": [
            "Best cross-validation accuracy: 0.546\n",
            "Test set score: 0.477\n",
            "Best parameters: {'KNN__n_neighbors': 13, 'scaler': None}\n"
          ]
        }
      ]
    },
    {
      "cell_type": "code",
      "metadata": {
        "id": "e-EH8QkQJ1gT",
        "outputId": "4933b9cf-0466-4706-ac0b-4285d6b60a85"
      },
      "source": [
        "y_pred = grid.predict(X_test)\n",
        "print(y_pred[:250])\n",
        "print(classification_report(y_test, y_pred))"
      ],
      "execution_count": null,
      "outputs": [
        {
          "name": "stdout",
          "output_type": "stream",
          "text": [
            "[1 1 0 1 0 1 1 0 0 0 0 0 1 0 1 1 1 0 0 1 1 0 0 1 0 1 1 1 1 1 1 0 0 1 1 1 0\n",
            " 0 0 1 0 0 1 1 1 0 1 1 1 1 0 1 1 0 1 1 0 0 1 1 1 1 1 1 0 1 0 0 1 1 1 1 0 1\n",
            " 0 1 0 1 1 0 0 0 1 1 1 0 1 1 0 1 0 1 0 0 1 1 0 0 1 1 1 1 1 0 0 1 1 1 1 0 1\n",
            " 0 1 0 1 1 1 1 1 0 1 1 1 1 1 1 0 1 1 0 1 1 0 1 0 1 1 1 1 0 0 1 1 0 0 1 1 1\n",
            " 1 1 1 1 0 1 0 0 1 1 1 0 1 0 1 0 0 0 1 0 1 0 1 1 0 1 1 0 0 1 1 1 1 1 0 0 0\n",
            " 0 1 1 1 0 0 1 1 1 1 1 1 0 0 1 1 1 1 1 1 1 1 0 0 0 1 1 0 0 1 0 1 1 1 0 0 1\n",
            " 0 1 1 1 0 0 1 0 1 0 0 1 1 1 0 1 1 1 0 0 1 1 1 1 1 1 1 1]\n",
            "              precision    recall  f1-score   support\n",
            "\n",
            "           0       0.56      0.36      0.44       184\n",
            "           1       0.43      0.62      0.51       141\n",
            "\n",
            "    accuracy                           0.48       325\n",
            "   macro avg       0.49      0.49      0.47       325\n",
            "weighted avg       0.50      0.48      0.47       325\n",
            "\n"
          ]
        }
      ]
    },
    {
      "cell_type": "markdown",
      "metadata": {
        "id": "6raleAoXJ1gT"
      },
      "source": [
        "## Automatic feature selection"
      ]
    },
    {
      "cell_type": "code",
      "metadata": {
        "id": "NhrlwUH-J1gT",
        "outputId": "5ce7c928-1b13-481a-ed45-8cfeb103e577"
      },
      "source": [
        "from sklearn.feature_selection import RFE\n",
        "\n",
        "select = RFE(RandomForestClassifier(n_estimators=50, max_depth=5, random_state=0), n_features_to_select=3)\n",
        "\n",
        "select.fit(X_train, y_train)"
      ],
      "execution_count": null,
      "outputs": [
        {
          "data": {
            "text/plain": [
              "RFE(estimator=RandomForestClassifier(max_depth=5, n_estimators=50,\n",
              "                                     random_state=0),\n",
              "    n_features_to_select=3)"
            ]
          },
          "execution_count": 38,
          "metadata": {},
          "output_type": "execute_result"
        }
      ]
    },
    {
      "cell_type": "code",
      "metadata": {
        "id": "o2JnQslwJ1gT",
        "outputId": "6e55cb83-8315-48c8-ad46-49da05ee98f5"
      },
      "source": [
        "select.score(X_test, y_test)"
      ],
      "execution_count": null,
      "outputs": [
        {
          "data": {
            "text/plain": [
              "0.5784615384615385"
            ]
          },
          "execution_count": 39,
          "metadata": {},
          "output_type": "execute_result"
        }
      ]
    },
    {
      "cell_type": "code",
      "metadata": {
        "id": "belflcnmJ1gT",
        "outputId": "3a0f43e7-5260-4ce9-91b5-1f8816648838"
      },
      "source": [
        "for i in range(X.shape[1]):\n",
        "    print('Column: %d, Selected %s, Rank: %.3f' % (i, select.support_[i], select.ranking_[i]))"
      ],
      "execution_count": null,
      "outputs": [
        {
          "name": "stdout",
          "output_type": "stream",
          "text": [
            "Column: 0, Selected False, Rank: 5.000\n",
            "Column: 1, Selected True, Rank: 1.000\n",
            "Column: 2, Selected True, Rank: 1.000\n",
            "Column: 3, Selected False, Rank: 3.000\n",
            "Column: 4, Selected False, Rank: 2.000\n",
            "Column: 5, Selected True, Rank: 1.000\n",
            "Column: 6, Selected False, Rank: 4.000\n",
            "Column: 7, Selected False, Rank: 6.000\n"
          ]
        }
      ]
    },
    {
      "cell_type": "code",
      "metadata": {
        "id": "MN_2JdEIJ1gT",
        "outputId": "d5f6a2d6-77d2-4385-91df-75dc5c1d8d6f"
      },
      "source": [
        "from sklearn.feature_selection import RFE\n",
        "\n",
        "select = RFE(GradientBoostingClassifier(n_estimators=50, learning_rate=0.01, random_state=0), n_features_to_select=3)\n",
        "\n",
        "select.fit(X_train, y_train)"
      ],
      "execution_count": null,
      "outputs": [
        {
          "data": {
            "text/plain": [
              "RFE(estimator=GradientBoostingClassifier(learning_rate=0.01, n_estimators=50,\n",
              "                                         random_state=0),\n",
              "    n_features_to_select=3)"
            ]
          },
          "execution_count": 41,
          "metadata": {},
          "output_type": "execute_result"
        }
      ]
    },
    {
      "cell_type": "code",
      "metadata": {
        "id": "Ru5tTH0oJ1gT",
        "outputId": "b897cac7-5fd1-41e0-c74e-14c76b195150"
      },
      "source": [
        "select.score(X_test, y_test)"
      ],
      "execution_count": null,
      "outputs": [
        {
          "data": {
            "text/plain": [
              "0.5753846153846154"
            ]
          },
          "execution_count": 42,
          "metadata": {},
          "output_type": "execute_result"
        }
      ]
    },
    {
      "cell_type": "code",
      "metadata": {
        "id": "OZwdYlEVJ1gU",
        "outputId": "656be9a2-9329-4ad9-bda8-dd79597bb38d"
      },
      "source": [
        "for i in range(X.shape[1]):\n",
        "    print('Column: %d, Selected %s, Rank: %.3f' % (i, select.support_[i], select.ranking_[i]))"
      ],
      "execution_count": null,
      "outputs": [
        {
          "name": "stdout",
          "output_type": "stream",
          "text": [
            "Column: 0, Selected False, Rank: 4.000\n",
            "Column: 1, Selected True, Rank: 1.000\n",
            "Column: 2, Selected True, Rank: 1.000\n",
            "Column: 3, Selected True, Rank: 1.000\n",
            "Column: 4, Selected False, Rank: 6.000\n",
            "Column: 5, Selected False, Rank: 2.000\n",
            "Column: 6, Selected False, Rank: 5.000\n",
            "Column: 7, Selected False, Rank: 3.000\n"
          ]
        }
      ]
    },
    {
      "cell_type": "code",
      "metadata": {
        "id": "a-IjvN8eJ1gU"
      },
      "source": [
        ""
      ],
      "execution_count": null,
      "outputs": []
    }
  ]
}